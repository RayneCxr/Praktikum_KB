{
 "cells": [
  {
   "cell_type": "markdown",
   "id": "159625aa-c789-41cc-ae83-eea70e7b6efc",
   "metadata": {},
   "source": [
    "### Nama: Gabriella Caesaria Vianney\n",
    "### NIM: 2209106007\n",
    "### Kelas: Praktikum KB A1 2022\n",
    "## POSTTEST 5"
   ]
  },
  {
   "cell_type": "code",
   "execution_count": 2,
   "id": "6d78c53d-6d0f-454a-9fb9-1699feb969be",
   "metadata": {},
   "outputs": [],
   "source": [
    "import pandas as pd\n",
    "import matplotlib.pyplot as plt\n",
    "import numpy as np\n",
    "import seaborn as sns\n",
    "from sklearn.preprocessing import LabelEncoder\n",
    "from sklearn.model_selection import train_test_split\n",
    "from sklearn.svm import SVC\n",
    "from sklearn.linear_model import LinearRegression\n",
    "from sklearn.metrics import mean_squared_error\n",
    "from sklearn.cluster import KMeans"
   ]
  },
  {
   "cell_type": "code",
   "execution_count": 3,
   "id": "d77d9acd-1869-4470-9387-c63af92e7ec7",
   "metadata": {},
   "outputs": [
    {
     "data": {
      "text/html": [
       "<div>\n",
       "<style scoped>\n",
       "    .dataframe tbody tr th:only-of-type {\n",
       "        vertical-align: middle;\n",
       "    }\n",
       "\n",
       "    .dataframe tbody tr th {\n",
       "        vertical-align: top;\n",
       "    }\n",
       "\n",
       "    .dataframe thead th {\n",
       "        text-align: right;\n",
       "    }\n",
       "</style>\n",
       "<table border=\"1\" class=\"dataframe\">\n",
       "  <thead>\n",
       "    <tr style=\"text-align: right;\">\n",
       "      <th></th>\n",
       "      <th>phone_name</th>\n",
       "      <th>brand</th>\n",
       "      <th>os</th>\n",
       "      <th>inches</th>\n",
       "      <th>resolution</th>\n",
       "      <th>battery</th>\n",
       "      <th>battery_type</th>\n",
       "      <th>ram(GB)</th>\n",
       "      <th>announcement_date</th>\n",
       "      <th>weight(g)</th>\n",
       "      <th>...</th>\n",
       "      <th>video_1080p</th>\n",
       "      <th>video_4K</th>\n",
       "      <th>video_8K</th>\n",
       "      <th>video_30fps</th>\n",
       "      <th>video_60fps</th>\n",
       "      <th>video_120fps</th>\n",
       "      <th>video_240fps</th>\n",
       "      <th>video_480fps</th>\n",
       "      <th>video_960fps</th>\n",
       "      <th>price(USD)</th>\n",
       "    </tr>\n",
       "  </thead>\n",
       "  <tbody>\n",
       "    <tr>\n",
       "      <th>0</th>\n",
       "      <td>Y6II Compact</td>\n",
       "      <td>Huawei</td>\n",
       "      <td>Android 5.1</td>\n",
       "      <td>5.0</td>\n",
       "      <td>720x1280</td>\n",
       "      <td>2200</td>\n",
       "      <td>Li-Po</td>\n",
       "      <td>2</td>\n",
       "      <td>2016-09-01</td>\n",
       "      <td>140.0</td>\n",
       "      <td>...</td>\n",
       "      <td>False</td>\n",
       "      <td>False</td>\n",
       "      <td>False</td>\n",
       "      <td>True</td>\n",
       "      <td>False</td>\n",
       "      <td>False</td>\n",
       "      <td>False</td>\n",
       "      <td>False</td>\n",
       "      <td>False</td>\n",
       "      <td>120.0</td>\n",
       "    </tr>\n",
       "    <tr>\n",
       "      <th>1</th>\n",
       "      <td>K20 plus</td>\n",
       "      <td>LG</td>\n",
       "      <td>Android 7.0</td>\n",
       "      <td>5.3</td>\n",
       "      <td>720x1280</td>\n",
       "      <td>2700</td>\n",
       "      <td>Li-Ion</td>\n",
       "      <td>2</td>\n",
       "      <td>2016-12-01</td>\n",
       "      <td>140.0</td>\n",
       "      <td>...</td>\n",
       "      <td>True</td>\n",
       "      <td>False</td>\n",
       "      <td>False</td>\n",
       "      <td>True</td>\n",
       "      <td>False</td>\n",
       "      <td>False</td>\n",
       "      <td>False</td>\n",
       "      <td>False</td>\n",
       "      <td>False</td>\n",
       "      <td>100.0</td>\n",
       "    </tr>\n",
       "    <tr>\n",
       "      <th>2</th>\n",
       "      <td>P8 Lite (2017)</td>\n",
       "      <td>Huawei</td>\n",
       "      <td>Android 7.0</td>\n",
       "      <td>5.2</td>\n",
       "      <td>1080x1920</td>\n",
       "      <td>3000</td>\n",
       "      <td>Li-Ion</td>\n",
       "      <td>4</td>\n",
       "      <td>2017-01-01</td>\n",
       "      <td>147.0</td>\n",
       "      <td>...</td>\n",
       "      <td>True</td>\n",
       "      <td>False</td>\n",
       "      <td>False</td>\n",
       "      <td>True</td>\n",
       "      <td>False</td>\n",
       "      <td>False</td>\n",
       "      <td>False</td>\n",
       "      <td>False</td>\n",
       "      <td>False</td>\n",
       "      <td>420.0</td>\n",
       "    </tr>\n",
       "    <tr>\n",
       "      <th>3</th>\n",
       "      <td>Redmi Note 4</td>\n",
       "      <td>Xiaomi</td>\n",
       "      <td>Android 6.0</td>\n",
       "      <td>5.5</td>\n",
       "      <td>1080x1920</td>\n",
       "      <td>4100</td>\n",
       "      <td>Li-Po</td>\n",
       "      <td>4</td>\n",
       "      <td>2017-01-01</td>\n",
       "      <td>165.0</td>\n",
       "      <td>...</td>\n",
       "      <td>True</td>\n",
       "      <td>False</td>\n",
       "      <td>False</td>\n",
       "      <td>True</td>\n",
       "      <td>False</td>\n",
       "      <td>True</td>\n",
       "      <td>False</td>\n",
       "      <td>False</td>\n",
       "      <td>False</td>\n",
       "      <td>150.0</td>\n",
       "    </tr>\n",
       "    <tr>\n",
       "      <th>4</th>\n",
       "      <td>P10</td>\n",
       "      <td>Huawei</td>\n",
       "      <td>Android 7.0</td>\n",
       "      <td>5.1</td>\n",
       "      <td>1080x1920</td>\n",
       "      <td>3200</td>\n",
       "      <td>Li-Ion</td>\n",
       "      <td>4</td>\n",
       "      <td>2017-02-01</td>\n",
       "      <td>145.0</td>\n",
       "      <td>...</td>\n",
       "      <td>True</td>\n",
       "      <td>True</td>\n",
       "      <td>False</td>\n",
       "      <td>True</td>\n",
       "      <td>True</td>\n",
       "      <td>False</td>\n",
       "      <td>False</td>\n",
       "      <td>False</td>\n",
       "      <td>False</td>\n",
       "      <td>420.0</td>\n",
       "    </tr>\n",
       "  </tbody>\n",
       "</table>\n",
       "<p>5 rows × 22 columns</p>\n",
       "</div>"
      ],
      "text/plain": [
       "       phone_name   brand           os  inches resolution  battery  \\\n",
       "0    Y6II Compact  Huawei  Android 5.1     5.0   720x1280     2200   \n",
       "1        K20 plus      LG  Android 7.0     5.3   720x1280     2700   \n",
       "2  P8 Lite (2017)  Huawei  Android 7.0     5.2  1080x1920     3000   \n",
       "3    Redmi Note 4  Xiaomi  Android 6.0     5.5  1080x1920     4100   \n",
       "4             P10  Huawei  Android 7.0     5.1  1080x1920     3200   \n",
       "\n",
       "  battery_type  ram(GB) announcement_date  weight(g)  ...  video_1080p  \\\n",
       "0        Li-Po        2        2016-09-01      140.0  ...        False   \n",
       "1       Li-Ion        2        2016-12-01      140.0  ...         True   \n",
       "2       Li-Ion        4        2017-01-01      147.0  ...         True   \n",
       "3        Li-Po        4        2017-01-01      165.0  ...         True   \n",
       "4       Li-Ion        4        2017-02-01      145.0  ...         True   \n",
       "\n",
       "   video_4K  video_8K  video_30fps  video_60fps  video_120fps  video_240fps  \\\n",
       "0     False     False         True        False         False         False   \n",
       "1     False     False         True        False         False         False   \n",
       "2     False     False         True        False         False         False   \n",
       "3     False     False         True        False          True         False   \n",
       "4      True     False         True         True         False         False   \n",
       "\n",
       "   video_480fps  video_960fps  price(USD)  \n",
       "0         False         False       120.0  \n",
       "1         False         False       100.0  \n",
       "2         False         False       420.0  \n",
       "3         False         False       150.0  \n",
       "4         False         False       420.0  \n",
       "\n",
       "[5 rows x 22 columns]"
      ]
     },
     "execution_count": 3,
     "metadata": {},
     "output_type": "execute_result"
    }
   ],
   "source": [
    "gaby = pd.read_csv('cleaned_all_phones.csv')\n",
    "gaby.head()"
   ]
  },
  {
   "cell_type": "code",
   "execution_count": 4,
   "id": "675144e3-4ac8-4ab1-87b5-8a8862a41ca6",
   "metadata": {},
   "outputs": [
    {
     "name": "stdout",
     "output_type": "stream",
     "text": [
      "<class 'pandas.core.frame.DataFrame'>\n",
      "RangeIndex: 1512 entries, 0 to 1511\n",
      "Data columns (total 22 columns):\n",
      " #   Column             Non-Null Count  Dtype  \n",
      "---  ------             --------------  -----  \n",
      " 0   phone_name         1512 non-null   object \n",
      " 1   brand              1512 non-null   object \n",
      " 2   os                 1512 non-null   object \n",
      " 3   inches             1512 non-null   float64\n",
      " 4   resolution         1512 non-null   object \n",
      " 5   battery            1512 non-null   int64  \n",
      " 6   battery_type       1512 non-null   object \n",
      " 7   ram(GB)            1512 non-null   int64  \n",
      " 8   announcement_date  1512 non-null   object \n",
      " 9   weight(g)          1512 non-null   float64\n",
      " 10  storage(GB)        1512 non-null   int64  \n",
      " 11  video_720p         1512 non-null   bool   \n",
      " 12  video_1080p        1512 non-null   bool   \n",
      " 13  video_4K           1512 non-null   bool   \n",
      " 14  video_8K           1512 non-null   bool   \n",
      " 15  video_30fps        1512 non-null   bool   \n",
      " 16  video_60fps        1512 non-null   bool   \n",
      " 17  video_120fps       1512 non-null   bool   \n",
      " 18  video_240fps       1512 non-null   bool   \n",
      " 19  video_480fps       1512 non-null   bool   \n",
      " 20  video_960fps       1512 non-null   bool   \n",
      " 21  price(USD)         1512 non-null   float64\n",
      "dtypes: bool(10), float64(3), int64(3), object(6)\n",
      "memory usage: 156.6+ KB\n"
     ]
    }
   ],
   "source": [
    "gaby.info()"
   ]
  },
  {
   "cell_type": "markdown",
   "id": "a6665745-db16-4c32-8d0c-9c2290d85346",
   "metadata": {},
   "source": [
    "### A. SUPERVISED LEARNING\n",
    "#### A1. Mengimplementasikan metode\n",
    "##### a. Support Vector Clustering menggunakan SVM"
   ]
  },
  {
   "cell_type": "code",
   "execution_count": 5,
   "id": "503766cd-9be7-4773-b7bd-b37eff12fd56",
   "metadata": {},
   "outputs": [],
   "source": [
    "X2 = gaby[['inches', 'weight(g)']]\n",
    "y2 = gaby['battery_type']\n",
    "\n",
    "# Mengubah nilai yang bukan Li-Ion menjadi non-Li-Ion\n",
    "y2 = np.where(y2 == 'Li-Ion', 'Li-Ion', 'Non-Li-Ion')"
   ]
  },
  {
   "cell_type": "markdown",
   "id": "19483cb4-c9f4-4d57-8e37-92bf6057601c",
   "metadata": {},
   "source": [
    "##### Mengatur perbandingan training set dan test set menjadi 80:20"
   ]
  },
  {
   "cell_type": "code",
   "execution_count": 6,
   "id": "f5cd7b8d-cb51-40f0-99ad-6710d1429f5e",
   "metadata": {},
   "outputs": [],
   "source": [
    "X_train2, X_test2, y_train2, y_test2 = train_test_split(\n",
    "    X2, y2, test_size=0.2, random_state=30\n",
    ")"
   ]
  },
  {
   "cell_type": "markdown",
   "id": "3b6f5d7d-3c7d-4939-92bf-8d8946c1a48b",
   "metadata": {},
   "source": [
    "##### melatih model SVC"
   ]
  },
  {
   "cell_type": "code",
   "execution_count": 7,
   "id": "221f2370-4ad8-4680-9008-6ffe76a14dcf",
   "metadata": {},
   "outputs": [
    {
     "data": {
      "text/html": [
       "<style>#sk-container-id-1 {color: black;}#sk-container-id-1 pre{padding: 0;}#sk-container-id-1 div.sk-toggleable {background-color: white;}#sk-container-id-1 label.sk-toggleable__label {cursor: pointer;display: block;width: 100%;margin-bottom: 0;padding: 0.3em;box-sizing: border-box;text-align: center;}#sk-container-id-1 label.sk-toggleable__label-arrow:before {content: \"▸\";float: left;margin-right: 0.25em;color: #696969;}#sk-container-id-1 label.sk-toggleable__label-arrow:hover:before {color: black;}#sk-container-id-1 div.sk-estimator:hover label.sk-toggleable__label-arrow:before {color: black;}#sk-container-id-1 div.sk-toggleable__content {max-height: 0;max-width: 0;overflow: hidden;text-align: left;background-color: #f0f8ff;}#sk-container-id-1 div.sk-toggleable__content pre {margin: 0.2em;color: black;border-radius: 0.25em;background-color: #f0f8ff;}#sk-container-id-1 input.sk-toggleable__control:checked~div.sk-toggleable__content {max-height: 200px;max-width: 100%;overflow: auto;}#sk-container-id-1 input.sk-toggleable__control:checked~label.sk-toggleable__label-arrow:before {content: \"▾\";}#sk-container-id-1 div.sk-estimator input.sk-toggleable__control:checked~label.sk-toggleable__label {background-color: #d4ebff;}#sk-container-id-1 div.sk-label input.sk-toggleable__control:checked~label.sk-toggleable__label {background-color: #d4ebff;}#sk-container-id-1 input.sk-hidden--visually {border: 0;clip: rect(1px 1px 1px 1px);clip: rect(1px, 1px, 1px, 1px);height: 1px;margin: -1px;overflow: hidden;padding: 0;position: absolute;width: 1px;}#sk-container-id-1 div.sk-estimator {font-family: monospace;background-color: #f0f8ff;border: 1px dotted black;border-radius: 0.25em;box-sizing: border-box;margin-bottom: 0.5em;}#sk-container-id-1 div.sk-estimator:hover {background-color: #d4ebff;}#sk-container-id-1 div.sk-parallel-item::after {content: \"\";width: 100%;border-bottom: 1px solid gray;flex-grow: 1;}#sk-container-id-1 div.sk-label:hover label.sk-toggleable__label {background-color: #d4ebff;}#sk-container-id-1 div.sk-serial::before {content: \"\";position: absolute;border-left: 1px solid gray;box-sizing: border-box;top: 0;bottom: 0;left: 50%;z-index: 0;}#sk-container-id-1 div.sk-serial {display: flex;flex-direction: column;align-items: center;background-color: white;padding-right: 0.2em;padding-left: 0.2em;position: relative;}#sk-container-id-1 div.sk-item {position: relative;z-index: 1;}#sk-container-id-1 div.sk-parallel {display: flex;align-items: stretch;justify-content: center;background-color: white;position: relative;}#sk-container-id-1 div.sk-item::before, #sk-container-id-1 div.sk-parallel-item::before {content: \"\";position: absolute;border-left: 1px solid gray;box-sizing: border-box;top: 0;bottom: 0;left: 50%;z-index: -1;}#sk-container-id-1 div.sk-parallel-item {display: flex;flex-direction: column;z-index: 1;position: relative;background-color: white;}#sk-container-id-1 div.sk-parallel-item:first-child::after {align-self: flex-end;width: 50%;}#sk-container-id-1 div.sk-parallel-item:last-child::after {align-self: flex-start;width: 50%;}#sk-container-id-1 div.sk-parallel-item:only-child::after {width: 0;}#sk-container-id-1 div.sk-dashed-wrapped {border: 1px dashed gray;margin: 0 0.4em 0.5em 0.4em;box-sizing: border-box;padding-bottom: 0.4em;background-color: white;}#sk-container-id-1 div.sk-label label {font-family: monospace;font-weight: bold;display: inline-block;line-height: 1.2em;}#sk-container-id-1 div.sk-label-container {text-align: center;}#sk-container-id-1 div.sk-container {/* jupyter's `normalize.less` sets `[hidden] { display: none; }` but bootstrap.min.css set `[hidden] { display: none !important; }` so we also need the `!important` here to be able to override the default hidden behavior on the sphinx rendered scikit-learn.org. See: https://github.com/scikit-learn/scikit-learn/issues/21755 */display: inline-block !important;position: relative;}#sk-container-id-1 div.sk-text-repr-fallback {display: none;}</style><div id=\"sk-container-id-1\" class=\"sk-top-container\"><div class=\"sk-text-repr-fallback\"><pre>SVC(kernel=&#x27;linear&#x27;)</pre><b>In a Jupyter environment, please rerun this cell to show the HTML representation or trust the notebook. <br />On GitHub, the HTML representation is unable to render, please try loading this page with nbviewer.org.</b></div><div class=\"sk-container\" hidden><div class=\"sk-item\"><div class=\"sk-estimator sk-toggleable\"><input class=\"sk-toggleable__control sk-hidden--visually\" id=\"sk-estimator-id-1\" type=\"checkbox\" checked><label for=\"sk-estimator-id-1\" class=\"sk-toggleable__label sk-toggleable__label-arrow\">SVC</label><div class=\"sk-toggleable__content\"><pre>SVC(kernel=&#x27;linear&#x27;)</pre></div></div></div></div></div>"
      ],
      "text/plain": [
       "SVC(kernel='linear')"
      ]
     },
     "execution_count": 7,
     "metadata": {},
     "output_type": "execute_result"
    }
   ],
   "source": [
    "svm = SVC(kernel=\"linear\")\n",
    "svm.fit(X_train2, y_train2)"
   ]
  },
  {
   "cell_type": "code",
   "execution_count": 8,
   "id": "eed2c681-26c3-449c-83ca-15e28d5bcc52",
   "metadata": {},
   "outputs": [
    {
     "data": {
      "text/plain": [
       "array([[  6.4 , 156.  ],\n",
       "       [  5.2 , 137.  ],\n",
       "       [  6.2 , 178.  ],\n",
       "       [  6.2 , 169.  ],\n",
       "       [  5.5 , 170.  ],\n",
       "       [  6.2 , 170.  ],\n",
       "       [  6.  , 221.  ],\n",
       "       [  6.5 , 208.  ],\n",
       "       [  6.4 , 156.  ],\n",
       "       [  6.2 , 168.  ],\n",
       "       [  6.21, 160.  ],\n",
       "       [  6.3 , 191.  ],\n",
       "       [  6.2 , 170.  ],\n",
       "       [  6.  , 176.  ],\n",
       "       [  6.21, 160.  ],\n",
       "       [  5.5 , 181.  ],\n",
       "       [  6.5 , 189.  ],\n",
       "       [  5.46, 195.  ],\n",
       "       [  6.5 , 180.  ],\n",
       "       [  6.6 , 198.  ],\n",
       "       [  5.99, 155.  ],\n",
       "       [  6.4 , 197.  ],\n",
       "       [  6.2 , 168.  ],\n",
       "       [  6.2 , 165.  ],\n",
       "       [  5.7 , 143.  ],\n",
       "       [  6.67, 175.  ],\n",
       "       [  6.26, 168.  ],\n",
       "       [  5.99, 155.  ],\n",
       "       [  6.1 , 204.  ],\n",
       "       [  6.3 , 169.  ],\n",
       "       [  5.8 , 163.  ],\n",
       "       [  6.  , 193.  ],\n",
       "       [  6.  , 162.  ],\n",
       "       [  6.22, 161.  ],\n",
       "       [  6.  , 178.  ],\n",
       "       [  5.8 , 174.  ],\n",
       "       [  6.7 , 192.  ],\n",
       "       [  5.7 , 156.  ],\n",
       "       [  5.7 , 198.  ],\n",
       "       [  5.5 , 153.  ],\n",
       "       [  5.84, 150.  ],\n",
       "       [  6.7 , 192.  ],\n",
       "       [  6.2 , 179.  ],\n",
       "       [  6.5 , 205.  ],\n",
       "       [  5.5 , 189.  ],\n",
       "       [  5.5 , 148.  ],\n",
       "       [  6.09, 150.  ],\n",
       "       [  6.1 , 163.  ],\n",
       "       [  5.5 , 181.  ],\n",
       "       [  5.5 , 165.  ],\n",
       "       [  6.  , 183.  ],\n",
       "       [  6.1 , 172.  ],\n",
       "       [  6.23, 158.  ],\n",
       "       [  5.83, 141.  ],\n",
       "       [  5.93, 170.  ],\n",
       "       [  5.45, 142.  ],\n",
       "       [  6.3 , 174.  ],\n",
       "       [  6.2 , 168.  ],\n",
       "       [  6.7 , 176.  ],\n",
       "       [  5.3 , 150.  ],\n",
       "       [  5.7 , 168.  ],\n",
       "       [  5.5 , 167.  ],\n",
       "       [  6.2 , 168.  ],\n",
       "       [  5.7 , 150.  ],\n",
       "       [  6.  , 155.  ],\n",
       "       [  6.1 , 167.  ],\n",
       "       [  6.6 , 195.  ],\n",
       "       [  5.5 , 153.  ],\n",
       "       [  5.5 , 165.  ],\n",
       "       [  6.22, 163.  ],\n",
       "       [  5.5 , 165.  ],\n",
       "       [  6.8 , 196.  ],\n",
       "       [  6.2 , 168.  ],\n",
       "       [  5.7 , 150.  ],\n",
       "       [  6.8 , 198.  ],\n",
       "       [  6.  , 152.  ],\n",
       "       [  6.  , 177.  ],\n",
       "       [  6.  , 188.  ],\n",
       "       [  5.5 , 175.  ],\n",
       "       [  6.3 , 168.  ],\n",
       "       [  6.4 , 177.  ],\n",
       "       [  5.8 , 188.  ],\n",
       "       [  6.5 , 226.  ],\n",
       "       [  5.4 , 141.  ],\n",
       "       [  6.2 , 189.  ],\n",
       "       [  6.7 , 203.  ],\n",
       "       [  5.2 , 137.  ],\n",
       "       [  5.6 , 162.  ],\n",
       "       [  6.9 , 208.  ],\n",
       "       [  6.  , 155.  ],\n",
       "       [  6.5 , 190.  ],\n",
       "       [  5.7 , 143.  ],\n",
       "       [  6.5 , 190.  ],\n",
       "       [  6.1 , 194.  ],\n",
       "       [  6.8 , 227.  ],\n",
       "       [  5.7 , 146.  ],\n",
       "       [  6.01, 190.  ],\n",
       "       [  6.7 , 198.  ],\n",
       "       [  6.3 , 168.  ],\n",
       "       [  6.5 , 173.  ],\n",
       "       [  5.5 , 150.  ],\n",
       "       [  5.6 , 154.  ],\n",
       "       [  6.7 , 179.  ],\n",
       "       [  6.5 , 211.  ],\n",
       "       [  6.1 , 189.  ],\n",
       "       [  6.2 , 172.  ],\n",
       "       [  6.3 , 172.  ],\n",
       "       [  6.2 , 170.  ],\n",
       "       [  5.7 , 144.  ],\n",
       "       [  5.71, 146.  ],\n",
       "       [  6.39, 205.  ],\n",
       "       [  6.9 , 208.  ],\n",
       "       [  5.5 , 180.  ],\n",
       "       [  6.2 , 168.  ],\n",
       "       [  6.21, 160.  ],\n",
       "       [  6.53, 194.  ],\n",
       "       [  5.7 , 155.  ],\n",
       "       [  6.3 , 168.  ],\n",
       "       [  6.2 , 171.  ],\n",
       "       [  5.5 , 174.  ],\n",
       "       [  5.5 , 180.  ],\n",
       "       [  6.4 , 184.  ],\n",
       "       [  6.67, 221.  ],\n",
       "       [  6.39, 205.  ],\n",
       "       [  6.5 , 205.  ],\n",
       "       [  6.1 , 174.  ],\n",
       "       [  6.7 , 240.  ],\n",
       "       [  5.9 , 164.  ],\n",
       "       [  6.  , 185.  ],\n",
       "       [  6.7 , 203.  ],\n",
       "       [  6.41, 156.  ],\n",
       "       [  6.2 , 170.  ],\n",
       "       [  6.2 , 168.  ],\n",
       "       [  6.7 , 240.  ],\n",
       "       [  6.1 , 168.  ],\n",
       "       [  6.2 , 168.  ],\n",
       "       [  6.1 , 206.  ],\n",
       "       [  6.3 , 197.  ],\n",
       "       [ 10.1 , 500.  ],\n",
       "       [  6.  , 205.  ],\n",
       "       [  6.4 , 169.  ],\n",
       "       [  6.26, 172.  ],\n",
       "       [  6.4 , 207.  ],\n",
       "       [  5.7 , 155.  ],\n",
       "       [  6.26, 168.  ],\n",
       "       [  5.5 , 164.  ],\n",
       "       [  5.3 , 140.  ],\n",
       "       [  6.3 , 183.  ],\n",
       "       [  6.7 , 188.  ],\n",
       "       [  5.5 , 163.  ],\n",
       "       [  6.4 , 173.  ],\n",
       "       [  5.7 , 149.  ],\n",
       "       [  5.7 , 179.  ],\n",
       "       [  6.44, 211.  ],\n",
       "       [  5.45, 142.  ],\n",
       "       [  6.8 , 234.  ],\n",
       "       [  5.45, 152.  ],\n",
       "       [  6.  , 152.  ],\n",
       "       [  5.4 , 135.  ],\n",
       "       [  5.99, 155.  ],\n",
       "       [  5.8 , 208.  ],\n",
       "       [  6.9 , 220.  ],\n",
       "       [  6.26, 168.  ],\n",
       "       [  6.1 , 159.  ],\n",
       "       [  6.  , 175.  ],\n",
       "       [  5.7 , 153.  ],\n",
       "       [  6.2 , 163.  ],\n",
       "       [  5.5 , 181.  ],\n",
       "       [  6.1 , 164.  ],\n",
       "       [  6.7 , 228.  ],\n",
       "       [  5.99, 191.  ],\n",
       "       [  6.4 , 175.  ],\n",
       "       [  5.6 , 154.  ],\n",
       "       [  5.7 , 167.  ],\n",
       "       [  6.1 , 157.  ],\n",
       "       [  5.99, 170.  ],\n",
       "       [  5.45, 165.  ],\n",
       "       [  6.28, 177.  ],\n",
       "       [  5.  , 140.  ],\n",
       "       [  5.45, 146.  ],\n",
       "       [  6.5 , 208.  ],\n",
       "       [  6.3 , 190.  ],\n",
       "       [  6.4 , 198.  ],\n",
       "       [  6.3 , 185.  ],\n",
       "       [  6.  , 158.  ],\n",
       "       [  5.88, 164.  ],\n",
       "       [  5.5 , 145.  ],\n",
       "       [  6.3 , 193.  ],\n",
       "       [  6.18, 182.  ],\n",
       "       [  5.8 , 141.  ],\n",
       "       [  6.3 , 184.  ],\n",
       "       [  6.39, 191.  ],\n",
       "       [  6.47, 208.  ],\n",
       "       [  5.45, 144.  ],\n",
       "       [  6.5 , 212.  ],\n",
       "       [  6.19, 164.  ],\n",
       "       [  6.5 , 221.  ],\n",
       "       [  5.84, 153.  ],\n",
       "       [  6.43, 194.  ],\n",
       "       [  6.21, 162.  ],\n",
       "       [  6.39, 210.  ],\n",
       "       [  5.6 , 147.  ],\n",
       "       [  6.6 , 235.  ],\n",
       "       [  6.4 , 192.  ],\n",
       "       [  6.3 , 186.  ],\n",
       "       [  6.1 , 167.  ],\n",
       "       [  6.1 , 193.  ],\n",
       "       [  6.3 , 185.  ],\n",
       "       [  6.09, 150.  ],\n",
       "       [  6.3 , 184.  ],\n",
       "       [  6.3 , 185.  ],\n",
       "       [  6.4 , 191.  ],\n",
       "       [  6.4 , 191.  ],\n",
       "       [  5.99, 180.  ],\n",
       "       [  6.26, 169.  ],\n",
       "       [  6.22, 165.  ],\n",
       "       [  6.28, 175.  ],\n",
       "       [  6.2 , 169.  ],\n",
       "       [  6.1 , 172.  ],\n",
       "       [  6.39, 191.  ],\n",
       "       [  5.7 , 150.  ],\n",
       "       [  5.1 , 256.  ],\n",
       "       [  6.  , 169.  ],\n",
       "       [  5.99, 164.  ],\n",
       "       [  6.01, 173.  ],\n",
       "       [  6.58, 226.  ],\n",
       "       [  6.44, 209.  ],\n",
       "       [  5.2 , 165.  ],\n",
       "       [  6.5 , 208.  ],\n",
       "       [  5.99, 181.  ],\n",
       "       [  5.65, 149.  ],\n",
       "       [  6.5 , 211.  ],\n",
       "       [  6.22, 175.  ],\n",
       "       [  6.1 , 152.  ],\n",
       "       [  5.99, 181.  ],\n",
       "       [  6.5 , 208.  ],\n",
       "       [  6.39, 191.  ],\n",
       "       [  6.4 , 192.  ],\n",
       "       [  6.09, 172.  ],\n",
       "       [  6.5 , 209.  ],\n",
       "       [  6.26, 170.  ],\n",
       "       [  6.1 , 159.  ],\n",
       "       [  6.3 , 176.  ],\n",
       "       [  6.3 , 186.  ],\n",
       "       [  6.3 , 218.  ],\n",
       "       [  6.15, 152.  ],\n",
       "       [  6.3 , 171.  ],\n",
       "       [  6.21, 177.  ],\n",
       "       [  6.36, 185.  ],\n",
       "       [  6.22, 188.  ],\n",
       "       [  6.2 , 168.  ],\n",
       "       [  5.5 , 148.  ],\n",
       "       [  6.  , 169.  ],\n",
       "       [  5.84, 145.  ],\n",
       "       [  6.3 , 200.  ],\n",
       "       [  6.28, 179.  ],\n",
       "       [  6.44, 205.  ],\n",
       "       [  6.15, 159.  ],\n",
       "       [  6.3 , 169.  ],\n",
       "       [  6.5 , 209.  ],\n",
       "       [  6.22, 188.  ],\n",
       "       [  6.39, 196.  ],\n",
       "       [  6.39, 206.  ],\n",
       "       [  6.5 , 209.  ],\n",
       "       [  6.26, 180.  ],\n",
       "       [  6.22, 172.  ],\n",
       "       [  5.2 , 165.  ],\n",
       "       [  5.7 , 155.  ],\n",
       "       [  6.1 , 166.  ],\n",
       "       [  6.21, 164.  ],\n",
       "       [  6.4 , 202.  ],\n",
       "       [  6.09, 150.  ],\n",
       "       [  6.  , 151.  ],\n",
       "       [  6.21, 160.  ],\n",
       "       [  6.22, 172.  ],\n",
       "       [  6.1 , 162.  ],\n",
       "       [  6.09, 150.  ],\n",
       "       [  6.26, 174.  ],\n",
       "       [  5.5 , 149.  ],\n",
       "       [  5.71, 170.  ],\n",
       "       [  6.3 , 172.  ],\n",
       "       [  6.09, 150.  ],\n",
       "       [  6.21, 181.  ],\n",
       "       [  6.1 , 168.  ],\n",
       "       [  6.26, 174.  ],\n",
       "       [  6.39, 191.  ],\n",
       "       [  6.09, 150.  ],\n",
       "       [  5.99, 166.  ],\n",
       "       [  6.  , 157.  ],\n",
       "       [  6.26, 175.  ],\n",
       "       [  6.2 , 165.  ],\n",
       "       [  6.28, 180.  ],\n",
       "       [  6.09, 173.  ],\n",
       "       [  6.3 , 184.  ],\n",
       "       [  6.22, 165.  ],\n",
       "       [  6.26, 172.  ],\n",
       "       [  6.26, 182.  ],\n",
       "       [  6.01, 153.  ],\n",
       "       [  5.  , 143.  ],\n",
       "       [  5.71, 146.  ],\n",
       "       [  6.26, 180.  ],\n",
       "       [  6.  , 168.  ],\n",
       "       [  6.3 , 168.  ],\n",
       "       [  6.  , 151.  ],\n",
       "       [  6.3 , 190.  ],\n",
       "       [  5.5 , 150.  ],\n",
       "       [  5.81, 143.  ],\n",
       "       [  6.22, 188.  ],\n",
       "       [  6.5 , 209.  ],\n",
       "       [  5.5 , 169.  ],\n",
       "       [  5.7 , 157.  ],\n",
       "       [  6.5 , 209.  ],\n",
       "       [  6.39, 218.  ],\n",
       "       [  6.15, 159.  ],\n",
       "       [  6.21, 164.  ],\n",
       "       [  6.  , 188.  ],\n",
       "       [  5.71, 146.  ],\n",
       "       [  5.5 , 180.  ],\n",
       "       [  6.39, 206.  ],\n",
       "       [  6.39, 189.  ],\n",
       "       [  6.26, 168.  ],\n",
       "       [  6.39, 225.  ],\n",
       "       [  6.1 , 166.  ],\n",
       "       [  6.5 , 225.  ],\n",
       "       [  5.9 , 140.  ],\n",
       "       [  6.4 , 191.  ],\n",
       "       [  6.39, 196.  ],\n",
       "       [  5.45, 144.  ],\n",
       "       [  5.9 , 186.  ],\n",
       "       [  6.39, 210.  ],\n",
       "       [  6.1 , 170.  ],\n",
       "       [  6.47, 208.  ],\n",
       "       [  6.1 , 186.  ],\n",
       "       [  6.3 , 169.  ],\n",
       "       [  6.26, 182.  ],\n",
       "       [  6.4 , 192.  ],\n",
       "       [  6.5 , 221.  ],\n",
       "       [  5.65, 143.  ],\n",
       "       [  5.84, 178.  ],\n",
       "       [  6.1 , 156.  ],\n",
       "       [  6.28, 176.  ],\n",
       "       [  6.21, 177.  ],\n",
       "       [  6.39, 191.  ],\n",
       "       [  5.97, 155.  ],\n",
       "       [  5.5 , 171.  ],\n",
       "       [  6.  , 169.  ],\n",
       "       [  6.  , 158.  ],\n",
       "       [  6.5 , 208.  ],\n",
       "       [  5.84, 152.  ],\n",
       "       [  5.7 , 162.  ],\n",
       "       [  6.26, 178.  ]])"
      ]
     },
     "execution_count": 8,
     "metadata": {},
     "output_type": "execute_result"
    }
   ],
   "source": [
    "y_pred2 = svm.predict(X_test2) #prediksi dengan X_test dari gaby\n",
    "\n",
    "sv = svm.support_vectors_ # ambil nilai support vector dari objek\n",
    "sv"
   ]
  },
  {
   "cell_type": "markdown",
   "id": "855b61c5-3a45-47b2-bfa4-905249a017c8",
   "metadata": {},
   "source": [
    "##### b. Regression Linear"
   ]
  },
  {
   "cell_type": "code",
   "execution_count": 14,
   "id": "d302daff-0626-4978-a690-56e72dfe39a0",
   "metadata": {},
   "outputs": [],
   "source": [
    "X = gaby[['ram(GB)']]\n",
    "y = gaby['price(USD)']"
   ]
  },
  {
   "cell_type": "markdown",
   "id": "381a0b16-3f71-4bc1-96d9-8331f476f87c",
   "metadata": {},
   "source": [
    "##### Mengatur perbandingan training set dan test set menjadi 80:20"
   ]
  },
  {
   "cell_type": "code",
   "execution_count": 15,
   "id": "ecdc2109-5ed2-49ce-9b35-6a826d18f415",
   "metadata": {},
   "outputs": [],
   "source": [
    "X_train, X_test, y_train, y_test = train_test_split(\n",
    "    X, y, test_size=0.2, random_state=0\n",
    ")"
   ]
  },
  {
   "cell_type": "markdown",
   "id": "a70644f3-0d57-447b-9836-62099e8bc19a",
   "metadata": {},
   "source": [
    "##### melatih model regresi linear"
   ]
  },
  {
   "cell_type": "code",
   "execution_count": 16,
   "id": "27d1e13e-dad8-465f-8258-79dc68b3e401",
   "metadata": {},
   "outputs": [
    {
     "data": {
      "text/html": [
       "<style>#sk-container-id-3 {color: black;}#sk-container-id-3 pre{padding: 0;}#sk-container-id-3 div.sk-toggleable {background-color: white;}#sk-container-id-3 label.sk-toggleable__label {cursor: pointer;display: block;width: 100%;margin-bottom: 0;padding: 0.3em;box-sizing: border-box;text-align: center;}#sk-container-id-3 label.sk-toggleable__label-arrow:before {content: \"▸\";float: left;margin-right: 0.25em;color: #696969;}#sk-container-id-3 label.sk-toggleable__label-arrow:hover:before {color: black;}#sk-container-id-3 div.sk-estimator:hover label.sk-toggleable__label-arrow:before {color: black;}#sk-container-id-3 div.sk-toggleable__content {max-height: 0;max-width: 0;overflow: hidden;text-align: left;background-color: #f0f8ff;}#sk-container-id-3 div.sk-toggleable__content pre {margin: 0.2em;color: black;border-radius: 0.25em;background-color: #f0f8ff;}#sk-container-id-3 input.sk-toggleable__control:checked~div.sk-toggleable__content {max-height: 200px;max-width: 100%;overflow: auto;}#sk-container-id-3 input.sk-toggleable__control:checked~label.sk-toggleable__label-arrow:before {content: \"▾\";}#sk-container-id-3 div.sk-estimator input.sk-toggleable__control:checked~label.sk-toggleable__label {background-color: #d4ebff;}#sk-container-id-3 div.sk-label input.sk-toggleable__control:checked~label.sk-toggleable__label {background-color: #d4ebff;}#sk-container-id-3 input.sk-hidden--visually {border: 0;clip: rect(1px 1px 1px 1px);clip: rect(1px, 1px, 1px, 1px);height: 1px;margin: -1px;overflow: hidden;padding: 0;position: absolute;width: 1px;}#sk-container-id-3 div.sk-estimator {font-family: monospace;background-color: #f0f8ff;border: 1px dotted black;border-radius: 0.25em;box-sizing: border-box;margin-bottom: 0.5em;}#sk-container-id-3 div.sk-estimator:hover {background-color: #d4ebff;}#sk-container-id-3 div.sk-parallel-item::after {content: \"\";width: 100%;border-bottom: 1px solid gray;flex-grow: 1;}#sk-container-id-3 div.sk-label:hover label.sk-toggleable__label {background-color: #d4ebff;}#sk-container-id-3 div.sk-serial::before {content: \"\";position: absolute;border-left: 1px solid gray;box-sizing: border-box;top: 0;bottom: 0;left: 50%;z-index: 0;}#sk-container-id-3 div.sk-serial {display: flex;flex-direction: column;align-items: center;background-color: white;padding-right: 0.2em;padding-left: 0.2em;position: relative;}#sk-container-id-3 div.sk-item {position: relative;z-index: 1;}#sk-container-id-3 div.sk-parallel {display: flex;align-items: stretch;justify-content: center;background-color: white;position: relative;}#sk-container-id-3 div.sk-item::before, #sk-container-id-3 div.sk-parallel-item::before {content: \"\";position: absolute;border-left: 1px solid gray;box-sizing: border-box;top: 0;bottom: 0;left: 50%;z-index: -1;}#sk-container-id-3 div.sk-parallel-item {display: flex;flex-direction: column;z-index: 1;position: relative;background-color: white;}#sk-container-id-3 div.sk-parallel-item:first-child::after {align-self: flex-end;width: 50%;}#sk-container-id-3 div.sk-parallel-item:last-child::after {align-self: flex-start;width: 50%;}#sk-container-id-3 div.sk-parallel-item:only-child::after {width: 0;}#sk-container-id-3 div.sk-dashed-wrapped {border: 1px dashed gray;margin: 0 0.4em 0.5em 0.4em;box-sizing: border-box;padding-bottom: 0.4em;background-color: white;}#sk-container-id-3 div.sk-label label {font-family: monospace;font-weight: bold;display: inline-block;line-height: 1.2em;}#sk-container-id-3 div.sk-label-container {text-align: center;}#sk-container-id-3 div.sk-container {/* jupyter's `normalize.less` sets `[hidden] { display: none; }` but bootstrap.min.css set `[hidden] { display: none !important; }` so we also need the `!important` here to be able to override the default hidden behavior on the sphinx rendered scikit-learn.org. See: https://github.com/scikit-learn/scikit-learn/issues/21755 */display: inline-block !important;position: relative;}#sk-container-id-3 div.sk-text-repr-fallback {display: none;}</style><div id=\"sk-container-id-3\" class=\"sk-top-container\"><div class=\"sk-text-repr-fallback\"><pre>LinearRegression()</pre><b>In a Jupyter environment, please rerun this cell to show the HTML representation or trust the notebook. <br />On GitHub, the HTML representation is unable to render, please try loading this page with nbviewer.org.</b></div><div class=\"sk-container\" hidden><div class=\"sk-item\"><div class=\"sk-estimator sk-toggleable\"><input class=\"sk-toggleable__control sk-hidden--visually\" id=\"sk-estimator-id-3\" type=\"checkbox\" checked><label for=\"sk-estimator-id-3\" class=\"sk-toggleable__label sk-toggleable__label-arrow\">LinearRegression</label><div class=\"sk-toggleable__content\"><pre>LinearRegression()</pre></div></div></div></div></div>"
      ],
      "text/plain": [
       "LinearRegression()"
      ]
     },
     "execution_count": 16,
     "metadata": {},
     "output_type": "execute_result"
    }
   ],
   "source": [
    "reg = LinearRegression()\n",
    "reg.fit(X_train, y_train)"
   ]
  },
  {
   "cell_type": "markdown",
   "id": "d50a83cc-068b-4bab-b2f3-e9f327f23734",
   "metadata": {},
   "source": [
    "##### Melakukan prediksi"
   ]
  },
  {
   "cell_type": "code",
   "execution_count": 17,
   "id": "6e499ec6-b2f4-4d87-8bc9-0c125c9c2ec0",
   "metadata": {},
   "outputs": [],
   "source": [
    "y_pred = reg.predict(X_test)"
   ]
  },
  {
   "cell_type": "code",
   "execution_count": 18,
   "id": "71995393-fa24-4964-a829-484d2772c8f2",
   "metadata": {},
   "outputs": [
    {
     "data": {
      "text/plain": [
       "0.11951326458717049"
      ]
     },
     "execution_count": 18,
     "metadata": {},
     "output_type": "execute_result"
    }
   ],
   "source": [
    "y_score = reg.score(X_test, y_test)\n",
    "y_score"
   ]
  },
  {
   "cell_type": "markdown",
   "id": "84ee4589-dc35-48cf-9c17-7b8650fe14f8",
   "metadata": {},
   "source": [
    "#### A2. Hasil Prediksi\r",
    "##### a. Klasifikasi"
   ]
  },
  {
   "cell_type": "code",
   "execution_count": 19,
   "id": "39f0405b-a580-4f5d-9414-6c6dea83a4e9",
   "metadata": {},
   "outputs": [],
   "source": [
    "from sklearn.metrics import confusion_matrix\n",
    "from sklearn.metrics import classification_report as cr"
   ]
  },
  {
   "cell_type": "code",
   "execution_count": 20,
   "id": "11a54b40-5480-4f1c-8f60-b6764a0321ae",
   "metadata": {},
   "outputs": [
    {
     "data": {
      "text/plain": [
       "array([[ 19,  36],\n",
       "       [  8, 240]], dtype=int64)"
      ]
     },
     "execution_count": 20,
     "metadata": {},
     "output_type": "execute_result"
    }
   ],
   "source": [
    "# Hitung confusion matrix\n",
    "cm = confusion_matrix(y_test2 ,y_pred2)\n",
    "cm"
   ]
  },
  {
   "cell_type": "code",
   "execution_count": 21,
   "id": "07ce090f-c779-464d-b5a4-81641b1ef3dc",
   "metadata": {},
   "outputs": [
    {
     "data": {
      "image/png": "[encoded data removed]",
      "text/plain": [
       "<Figure size 1000x800 with 2 Axes>"
      ]
     },
     "metadata": {},
     "output_type": "display_data"
    }
   ],
   "source": [
    "plt.figure(figsize=(10,8))\n",
    "sns.heatmap(cm, annot=True, fmt='.2f', cmap='Reds')\n",
    "plt.xlabel('Predicted')\n",
    "plt.ylabel('Truth')\n",
    "plt.title('Confusion Matrix SVM')\n",
    "plt.show()"
   ]
  },
  {
   "cell_type": "code",
   "execution_count": 22,
   "id": "1b833d93-a70d-4f07-b8c9-01f03ca493d2",
   "metadata": {},
   "outputs": [
    {
     "name": "stdout",
     "output_type": "stream",
     "text": [
      "              precision    recall  f1-score   support\n",
      "\n",
      "      Li-Ion       0.70      0.35      0.46        55\n",
      "  Non-Li-Ion       0.87      0.97      0.92       248\n",
      "\n",
      "    accuracy                           0.85       303\n",
      "   macro avg       0.79      0.66      0.69       303\n",
      "weighted avg       0.84      0.85      0.83       303\n",
      "\n"
     ]
    }
   ],
   "source": [
    "result = cr(y_test2, y_pred2)\n",
    "print(result)"
   ]
  },
  {
   "cell_type": "markdown",
   "id": "f578e1fa-5851-4c2a-9383-6cf5a3ae3471",
   "metadata": {},
   "source": [
    "##### Hasil ini menunjukan bahwa model memiliki performa yang baik dalam mengklasifikasikan kelas \"Non-Li-Ion\" (tinggi pada precision, recall, dan F1-Score), tetapi memiliki performa yang lebih rendah dalam mengklasifikasikan kelas \"Li-Ion\" (lebih rendah pada precision, recall, dan F1-Score). Akurasi keseluruhan model adalah 0.85."
   ]
  },
  {
   "cell_type": "markdown",
   "id": "34d97b07-583f-4c3b-96ed-1ffb8d41db0e",
   "metadata": {},
   "source": [
    "##### b. Regresi"
   ]
  },
  {
   "cell_type": "code",
   "execution_count": 23,
   "id": "900252c9-f43f-4723-991c-d769fd40f53b",
   "metadata": {},
   "outputs": [],
   "source": [
    "from sklearn.metrics import mean_absolute_error, mean_squared_error, r2_score\n",
    "from numpy import sqrt"
   ]
  },
  {
   "cell_type": "code",
   "execution_count": 24,
   "id": "c7ea9d11-784c-4d4f-8a24-0f9b8d8c7bfb",
   "metadata": {},
   "outputs": [
    {
     "name": "stdout",
     "output_type": "stream",
     "text": [
      " MAE 160.46688570496318\n",
      " MSE 60500.93936069032\n",
      " RMSE 245.96938703970932\n",
      " R2 0.11951326458717049\n"
     ]
    }
   ],
   "source": [
    "mae = mean_absolute_error(y_test, y_pred)\n",
    "mse = mean_squared_error(y_test, y_pred)\n",
    "rmse = sqrt(mse)\n",
    "r2 = r2_score(y_test, y_pred)\n",
    "\n",
    "# print (mae, mse, rmse, r2, sep='\\n')\n",
    "print(f\" MAE {mae}\\n MSE {mse}\\n RMSE {rmse}\\n R2 {r2}\")"
   ]
  },
  {
   "cell_type": "markdown",
   "id": "197fbb8e-7b4c-4f84-8e7e-65ebfa622a62",
   "metadata": {},
   "source": [
    "##### Hasil evaluasi model regresi ini menunjukkan bahwa model memiliki Mean Absolute Error (MAE) sekitar 160.47, yang mengindikasikan rata-rata kesalahan prediksi sebesar 160.47 unit. Mean Squared Error (MSE) adalah sekitar 60500.94, dengan Root Mean Squared Error (RMSE) sekitar 245.97, yang merupakan akar kuadrat dari MSE. R-squared (R2) adalah sekitar 0.12, yang mengindikasikan bahwa model hanya menjelaskan sekitar 11.95% dari variabilitas dalam data."
   ]
  },
  {
   "cell_type": "markdown",
   "id": "c008831e-3202-45da-8147-92bc15b50061",
   "metadata": {},
   "source": [
    "#### A3. Plot Hasil Prediksi\r",
    "##### a. Menggunakan SVM"
   ]
  },
  {
   "cell_type": "code",
   "execution_count": 25,
   "id": "0c407054-241c-40cc-87e4-b01e36cc5f3c",
   "metadata": {},
   "outputs": [
    {
     "name": "stderr",
     "output_type": "stream",
     "text": [
      "C:\\Users\\Laptop ASUS TUF\\venv_A1_22\\gabriella_007\\lib\\site-packages\\sklearn\\base.py:465: UserWarning: X does not have valid feature names, but SVC was fitted with feature names\n",
      "  warnings.warn(\n"
     ]
    },
    {
     "data": {
      "text/plain": [
       "Text(0, 0.5, 'price(USD)')"
      ]
     },
     "execution_count": 25,
     "metadata": {},
     "output_type": "execute_result"
    },
    {
     "data": {
      "image/png": "[encoded data removed]",
      "text/plain": [
       "<Figure size 640x480 with 1 Axes>"
      ]
     },
     "metadata": {},
     "output_type": "display_data"
    }
   ],
   "source": [
    "# plot data points dari CBH\n",
    "plt.scatter(X2[y2 == 'Li-Ion'].iloc[:,0], \n",
    "            X2[y2 == 'Li-Ion'].iloc[:,1], \n",
    "            s=40, c='red', marker='o', label='Li-Ion')\n",
    "\n",
    "#Plot data points dari non-CBH\n",
    "plt.scatter(X2[y2 == 'Non-Li-Ion'].iloc[:,0],\n",
    "            X2[y2 == 'Non-Li-Ion'].iloc[:,1],\n",
    "            s=40, c='yellow', marker='o', label='Non-Li-Ion')\n",
    "\n",
    "# Tampilkan Titik-Titik Support Vectors-nya\n",
    "plt.scatter(sv[:, 0], sv[:, 1], s=40,\n",
    "color='orange', marker='+', label='Support Vectors')\n",
    "\n",
    "# Buat garis Decision Boundary (Ruang Keputusan)\n",
    "ax = plt.gca() # gca() = \"Get Current Axes\"\n",
    "xlim = ax.get_xlim()\n",
    "ylim = ax.get_ylim()\n",
    "\n",
    "# Buat sebuah meshgrid untuk evaluasi model\n",
    "xx, yy = np.meshgrid(np.linspace(xlim[0], xlim[1]), # Linear Space x\n",
    "np.linspace(ylim[0], ylim[1])) # Linear Space y\n",
    "Z = svm.decision_function(np.c_[xx.ravel(), yy.ravel()]) # Concatenate\n",
    "Z = Z.reshape(xx.shape) # Reshape titik agar sesuai dengan sumbu x\n",
    "# Buat grafik Decision Boundary dan garis Marginnya\n",
    "ax.contour(xx, yy, Z, colors='k', levels=[-1, 0, 1], alpha=0.5,\n",
    "\n",
    "linestyles=['--', '-', '--'])\n",
    "\n",
    "#Plot data points dari support vector\n",
    "# plt.scatter()\n",
    "\n",
    "plt.xlabel(\"ram(GB)\")\n",
    "plt.ylabel(\"price(USD)\")"
   ]
  },
  {
   "cell_type": "markdown",
   "id": "f52e749c-d961-4838-94cc-2aba49a036d9",
   "metadata": {},
   "source": [
    "##### B. Menggunakan regresi linear"
   ]
  },
  {
   "cell_type": "code",
   "execution_count": 29,
   "id": "8c4a960f-cda1-4129-9108-45ac42a3150d",
   "metadata": {},
   "outputs": [
    {
     "data": {
      "image/png": "[encoded data removed]",
      "text/plain": [
       "<Figure size 1000x800 with 1 Axes>"
      ]
     },
     "metadata": {},
     "output_type": "display_data"
    }
   ],
   "source": [
    "plt.figure(figsize=(10,8))\n",
    "plt.scatter (X_test, y_test, c=\"purple\") # c = color\n",
    "plt.plot(X_test, y_pred, c=\"blue\", linewidth=2, label='Prediksi')\n",
    "plt.legend(loc='lower right') #loc = lokasi (upper/lower)\n",
    "plt.title('Prediksi nilai Y terhadap variabel X ')\n",
    "plt.show()"
   ]
  },
  {
   "cell_type": "markdown",
   "id": "0f8d73e9-9e7c-44b0-9016-f7d71d87f4aa",
   "metadata": {},
   "source": [
    "### B. UNSUPERVISED LEARNING\r",
    "#### B1. Mengimplementasikan metode K-MEANS"
   ]
  },
  {
   "cell_type": "code",
   "execution_count": 32,
   "id": "bff40061-a051-4ef9-b34f-30aad754d6e9",
   "metadata": {},
   "outputs": [],
   "source": [
    "X = gaby[['ram(GB)', 'price(USD)']]\n",
    "K = 2\n",
    "\n",
    "kmeans = KMeans(n_clusters=K, n_init=10) \n",
    "kmeans.fit(X)\n",
    "\n",
    "cluster_labels = kmeans.labels_\n",
    "gaby[\"cluster\"] = cluster_labels\n",
    "centroids = kmeans.cluster_centers_\n",
    "cluster_mapping = {0: 1, 1: 0}\n",
    "gaby['cluster'] = gaby['cluster'].map(cluster_mapping)"
   ]
  },
  {
   "cell_type": "markdown",
   "id": "5935b6d1-163d-49f2-878a-5a07177a6532",
   "metadata": {},
   "source": [
    "### B2. Cluster yg telah diprediksi\r",
    "#### a. Tanpa label asli"
   ]
  },
  {
   "cell_type": "code",
   "execution_count": 33,
   "id": "bb101015-a02c-4601-9b37-d0c50ca9e413",
   "metadata": {},
   "outputs": [],
   "source": [
    "from sklearn.metrics import silhouette_score, davies_bouldin_score, calinski_harabasz_score"
   ]
  },
  {
   "cell_type": "code",
   "execution_count": 34,
   "id": "81cbaaea-3974-4ff8-924f-280eb0591e13",
   "metadata": {},
   "outputs": [
    {
     "name": "stdout",
     "output_type": "stream",
     "text": [
      "Silhouette Score: 0.75\n",
      "Davies-Bouldin Index: 0.51\n",
      "Calinski-Harabasz Index: 2669.72\n"
     ]
    }
   ],
   "source": [
    "# Menghitung metrik-metrik klastering\n",
    "def calculate_clustering_metrics(X, labels):\n",
    "    ss_score = silhouette_score(X, labels)\n",
    "    db_index = davies_bouldin_score(X, labels)\n",
    "    ch_index = calinski_harabasz_score(X, labels)\n",
    "    return ss_score, db_index, ch_index\n",
    "\n",
    "# label klastering\n",
    "labels = gaby['cluster']\n",
    "\n",
    "# Hitung metrik-metrik klastering\n",
    "ss, db, ch = calculate_clustering_metrics(X, labels)\n",
    "\n",
    "# Print hasil metrik klastering\n",
    "print(f\"Silhouette Score: {ss:.2f}\")\n",
    "print(f\"Davies-Bouldin Index: {db:.2f}\")\n",
    "print(f\"Calinski-Harabasz Index: {ch:.2f}\")"
   ]
  },
  {
   "cell_type": "markdown",
   "id": "e1638b0d-5927-4c77-834f-c586b74acc98",
   "metadata": {},
   "source": [
    "##### Hasil evaluasi clustering ini menunjukkan bahwa pengelompokan data memiliki kualitas yang baik. Silhouette Score sebesar 0.75 menunjukkan tingkat kesamaan yang tinggi antara anggota cluster dengan cluster yang sama dan berbeda dari cluster lainnya. Davies-Bouldin Index yang rendah (0.51) mengindikasikan pemisahan cluster yang baik. Sementara itu, Calinski-Harabasz Index yang tinggi (2669.72) menunjukkan varian yang tinggi antara cluster dan varian yang rendah dalam cluster, menggambarkan pengelompokan yang efisien."
   ]
  },
  {
   "cell_type": "markdown",
   "id": "1968ab85-c987-4d34-a286-43d68728da52",
   "metadata": {},
   "source": [
    "##### b. Dengan label asli\n",
    "##### Mengubah label kategorikal menjadi numerik"
   ]
  },
  {
   "cell_type": "code",
   "execution_count": 35,
   "id": "bb9a648a-2f74-4c4a-9d28-288b545a70d4",
   "metadata": {},
   "outputs": [],
   "source": [
    "# Membuat objek LabelEncoder\n",
    "label_encoder = LabelEncoder()\n",
    "\n",
    "# Menggunakan LabelEncoder untuk mengubah label kategorikal menjadi numerik\n",
    "gaby['brand'] = label_encoder.fit_transform(gaby['brand'])"
   ]
  },
  {
   "cell_type": "code",
   "execution_count": 36,
   "id": "08697842-b963-4e65-bd7f-194eb88fd0d7",
   "metadata": {},
   "outputs": [],
   "source": [
    "from sklearn.metrics import adjusted_rand_score, normalized_mutual_info_score, homogeneity_score, completeness_score"
   ]
  },
  {
   "cell_type": "code",
   "execution_count": 37,
   "id": "9df7d7fd-f302-49c0-bd4a-4ba4b419d84a",
   "metadata": {},
   "outputs": [
    {
     "name": "stdout",
     "output_type": "stream",
     "text": [
      "Adjusted Rand Index: 0.01\n",
      "Normalized Mutual Information: 0.01\n",
      "Homogeneity: 0.01\n",
      "Completeness: 0.05\n"
     ]
    }
   ],
   "source": [
    "true_labels = gaby['brand']\n",
    "\n",
    "# Evaluasi dengan metrik ARI\n",
    "ari_score = adjusted_rand_score(true_labels, gaby['cluster'])\n",
    "print(f\"Adjusted Rand Index: {ari_score:.2f}\")\n",
    "\n",
    "# Evaluasi dengan metrik NMI\n",
    "nmi_score = normalized_mutual_info_score(true_labels, gaby['cluster'])\n",
    "print(f\"Normalized Mutual Information: {nmi_score:.2f}\")\n",
    "\n",
    "# Evaluasi dengan metrik homogeneity\n",
    "homogeneity = homogeneity_score(true_labels, gaby['cluster'])\n",
    "print(f\"Homogeneity: {homogeneity:.2f}\")\n",
    "\n",
    "# Evaluasi dengan metrik completeness\n",
    "completeness = completeness_score(true_labels, gaby['cluster'])\n",
    "print(f\"Completeness: {completeness:.2f}\")"
   ]
  },
  {
   "cell_type": "markdown",
   "id": "17a9ad5e-cf5d-4bb0-8e25-ef7728ae4be9",
   "metadata": {},
   "source": [
    "##### Hasil evaluasi clustering menunjukkan bahwa pengelompokan yang ditemukan oleh model memiliki tingkat kesamaan yang sangat rendah dengan pengelompokan sebenarnya dalam dataset. Metrik seperti Adjusted Rand Index (ARI) dan Normalized Mutual Information (NMI) mendekati nol, menunjukkan kurangnya kesesuaian antara cluster model dengan cluster sebenarnya. Selain itu, metrik Homogeneity dan Completeness juga memiliki nilai yang sangat rendah, menunjukkan bahwa cluster yang ditemukan oleh model tidak homogen dan tidak dapat mengidentifikasi semua anggota kelas yang sama. Hasil ini mengindikasikan bahwa model clustering saat ini tidak efektif dalam memisahkan data ke dalam kelompok yang relevan dengan struktur sebenarnya dalam data, dan perlu ditingkatkan."
   ]
  },
  {
   "cell_type": "markdown",
   "id": "cf95f355-6527-4bfa-b0d6-794372926f26",
   "metadata": {},
   "source": [
    "##### B3. Plot hasil clustering"
   ]
  },
  {
   "cell_type": "code",
   "execution_count": 84,
   "id": "37ed55fc-a9eb-4dd8-b28b-baf72c951e26",
   "metadata": {},
   "outputs": [
    {
     "data": {
      "image/png": "[encoded data removed]",
      "text/plain": [
       "<Figure size 640x480 with 1 Axes>"
      ]
     },
     "metadata": {},
     "output_type": "display_data"
    }
   ],
   "source": [
    "figsize=(10,6)\n",
    "X = gaby[['ram(GB)', 'price(USD)']]\n",
    "\n",
    "# Plot data untuk setiap cluster\n",
    "plt.scatter(X[gaby['cluster'] == 0]['ram(GB)'],\n",
    "            X[gaby['cluster'] == 0]['price(USD)'],\n",
    "            c='red', label='Cluster 1')\n",
    "plt.scatter(X[gaby['cluster'] == 1]['ram(GB)'],\n",
    "            X[gaby['cluster'] == 1]['price(USD)'],\n",
    "            c='blue', label='Cluster 2')\n",
    "\n",
    "# Plot centroids\n",
    "plt.scatter(centroids[:, 0], centroids[:, 1], marker='X',\n",
    "            s=200, c='black', label='Centroids')\n",
    "\n",
    "plt.xlabel('ram(GB)')\n",
    "plt.ylabel('price(USD)')\n",
    "plt.title('Hasil Clustering K-Means')\n",
    "plt.legend()\n",
    "plt.show()"
   ]
  },
  {
   "cell_type": "code",
   "execution_count": null,
   "id": "0112b807-1030-4e49-9352-723ac93c023f",
   "metadata": {},
   "outputs": [],
   "source": []
  }
 ],
 "metadata": {
  "kernelspec": {
   "display_name": "gabriella_007",
   "language": "python",
   "name": "gabriella_007"
  },
  "language_info": {
   "codemirror_mode": {
    "name": "ipython",
    "version": 3
   },
   "file_extension": ".py",
   "mimetype": "text/x-python",
   "name": "python",
   "nbconvert_exporter": "python",
   "pygments_lexer": "ipython3",
   "version": "3.10.7"
  }
 },
 "nbformat": 4,
 "nbformat_minor": 5
}
